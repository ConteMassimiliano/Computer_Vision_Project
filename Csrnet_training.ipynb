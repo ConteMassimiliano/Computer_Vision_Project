{
 "cells": [
  {
   "cell_type": "code",
   "execution_count": 1,
   "metadata": {
    "_cell_guid": "b1076dfc-b9ad-4769-8c92-a6c4dae69d19",
    "_uuid": "8f2839f25d086af736a60e9eeb907d3b93b6e0e5",
    "execution": {
     "iopub.execute_input": "2021-06-08T08:50:41.020715Z",
     "iopub.status.busy": "2021-06-08T08:50:41.020260Z",
     "iopub.status.idle": "2021-06-08T08:50:46.811973Z",
     "shell.execute_reply": "2021-06-08T08:50:46.811042Z",
     "shell.execute_reply.started": "2021-06-08T08:50:41.020617Z"
    }
   },
   "outputs": [],
   "source": [
    "import numpy as np\n",
    "import matplotlib.pyplot as plt\n",
    "import cv2\n",
    "from scipy.io import loadmat\n",
    "import matplotlib.cm as cm\n",
    "import time\n",
    "import skimage.measure\n",
    "import os\n",
    "from keras.initializers import RandomNormal\n",
    "from keras.callbacks import ModelCheckpoint"
   ]
  },
  {
   "cell_type": "code",
   "execution_count": 2,
   "metadata": {
    "execution": {
     "iopub.execute_input": "2021-06-08T06:45:35.932871Z",
     "iopub.status.busy": "2021-06-08T06:45:35.932556Z",
     "iopub.status.idle": "2021-06-08T06:45:35.943669Z",
     "shell.execute_reply": "2021-06-08T06:45:35.942743Z",
     "shell.execute_reply.started": "2021-06-08T06:45:35.932837Z"
    }
   },
   "outputs": [],
   "source": [
    "def density_map_1_over_8(image, heads):\n",
    "    image = skimage.measure.block_reduce(image, (2,2,1), np.max)\n",
    "    image = skimage.measure.block_reduce(image, (2,2,1), np.max)\n",
    "    image = skimage.measure.block_reduce(image, (2,2,1), np.max)\n",
    "    \n",
    "    output = np.zeros(image.shape[:-1])\n",
    "    x = heads[\"image_info\"][0, 0][0, 0][0][:,0]/8\n",
    "    y = heads[\"image_info\"][0, 0][0, 0][0][:,1]/8\n",
    "    \n",
    "    for x_choord, y_choord in zip(x, y):\n",
    "        density_i = np.zeros(image.shape[:-1])\n",
    "        try:\n",
    "            density_i[round(y_choord),round(x_choord)] = 1\n",
    "        except:\n",
    "            pass\n",
    "        nearest_distance = np.min(np.linalg.norm(x_choord - y_choord))\n",
    "        sigma = 0.3 * nearest_distance # beta = 0.3 suggested by MCNN paper\n",
    "        kernel_size = 3\n",
    "            \n",
    "        density_i = cv2.GaussianBlur(density_i, (kernel_size,kernel_size), sigma)\n",
    "        output += density_i\n",
    "    return cv2.GaussianBlur(output, (5,5), sigma)"
   ]
  },
  {
   "cell_type": "code",
   "execution_count": 3,
   "metadata": {
    "execution": {
     "iopub.execute_input": "2021-06-08T06:45:35.946069Z",
     "iopub.status.busy": "2021-06-08T06:45:35.945549Z",
     "iopub.status.idle": "2021-06-08T06:46:26.507600Z",
     "shell.execute_reply": "2021-06-08T06:46:26.506713Z",
     "shell.execute_reply.started": "2021-06-08T06:45:35.945983Z"
    }
   },
   "outputs": [
    {
     "name": "stdout",
     "output_type": "stream",
     "text": [
      "1 density maps done\n",
      "11 density maps done\n",
      "21 density maps done\n",
      "31 density maps done\n",
      "41 density maps done\n",
      "51 density maps done\n",
      "61 density maps done\n",
      "71 density maps done\n",
      "81 density maps done\n",
      "91 density maps done\n",
      "101 density maps done\n",
      "111 density maps done\n",
      "121 density maps done\n",
      "131 density maps done\n",
      "141 density maps done\n",
      "151 density maps done\n",
      "161 density maps done\n",
      "171 density maps done\n",
      "181 density maps done\n",
      "191 density maps done\n",
      "201 density maps done\n",
      "211 density maps done\n",
      "221 density maps done\n",
      "231 density maps done\n",
      "241 density maps done\n",
      "251 density maps done\n",
      "261 density maps done\n",
      "271 density maps done\n",
      "281 density maps done\n",
      "291 density maps done\n",
      "301 density maps done\n",
      "311 density maps done\n",
      "321 density maps done\n",
      "331 density maps done\n",
      "341 density maps done\n",
      "351 density maps done\n",
      "361 density maps done\n",
      "371 density maps done\n",
      "381 density maps done\n",
      "391 density maps done\n"
     ]
    }
   ],
   "source": [
    "path_images = \"../input/shanghaitech/ShanghaiTech/part_B/train_data/images/\"\n",
    "path_heads = \"../input/shanghaitech/ShanghaiTech/part_B/train_data/ground-truth/\"\n",
    "try:\n",
    "    os.makedirs('../outputs/train/maps/')\n",
    "except:\n",
    "    pass\n",
    "path_save = \"../outputs/train/maps/\"\n",
    "\n",
    "for i, (img_name, heads_name) in enumerate(zip(sorted(os.listdir(path = path_images)), sorted(os.listdir(path = path_heads)))):   \n",
    "    img = cv2.cvtColor(cv2.imread(path_images + img_name), cv2.COLOR_BGR2RGB)  \n",
    "    heads = loadmat(path_heads + heads_name)\n",
    "    ds_map_1o8 = density_map_1_over_8(img, heads)\n",
    "    np.save(path_save + img_name[:-4], ds_map_1o8)\n",
    "    \n",
    "    if i % 10 == 0:\n",
    "        print(f\"{i+1} density maps done\")"
   ]
  },
  {
   "cell_type": "code",
   "execution_count": 2,
   "metadata": {
    "execution": {
     "iopub.execute_input": "2021-06-08T08:50:46.813786Z",
     "iopub.status.busy": "2021-06-08T08:50:46.813443Z",
     "iopub.status.idle": "2021-06-08T08:50:47.216658Z",
     "shell.execute_reply": "2021-06-08T08:50:47.215545Z",
     "shell.execute_reply.started": "2021-06-08T08:50:46.813747Z"
    }
   },
   "outputs": [],
   "source": [
    "import numpy as np \n",
    "import matplotlib.pyplot as plt\n",
    "import cv2\n",
    "import os\n",
    "from scipy.io import loadmat\n",
    "from sklearn.model_selection import train_test_split\n",
    "\n",
    "from keras.models import *\n",
    "from keras.layers import *\n",
    "from keras.optimizers import SGD\n",
    "from keras.models import model_from_json\n",
    "\n",
    "from tensorflow.keras.applications.vgg16 import VGG16\n",
    "from tensorflow.keras.applications.vgg16 import preprocess_input"
   ]
  },
  {
   "cell_type": "code",
   "execution_count": 8,
   "metadata": {
    "execution": {
     "iopub.execute_input": "2021-06-08T08:52:51.264192Z",
     "iopub.status.busy": "2021-06-08T08:52:51.263839Z",
     "iopub.status.idle": "2021-06-08T08:53:05.396332Z",
     "shell.execute_reply": "2021-06-08T08:53:05.395418Z",
     "shell.execute_reply.started": "2021-06-08T08:52:51.264161Z"
    }
   },
   "outputs": [],
   "source": [
    "Train_imgs_B = []\n",
    "Train_density_B = []\n",
    "Train_labels_B = []\n",
    "\n",
    "path_images = \"../input/shanghaitech/ShanghaiTech/part_B/train_data/images/\"\n",
    "path_heads = \"../input/shanghaitech/ShanghaiTech/part_B/train_data/ground-truth/\"\n",
    "path_maps = \"../outputs/train/maps/\"\n",
    "\n",
    "\n",
    "\n",
    "for img_name, den_name, heads_name in zip(sorted(os.listdir(path = path_images)), sorted(os.listdir(path = path_maps)), sorted(os.listdir(path = path_heads))):   \n",
    "    \n",
    "    img = preprocess_input(cv2.cvtColor(cv2.imread(path_images + img_name), cv2.COLOR_BGR2RGB))\n",
    "    Train_imgs_B.append(img)\n",
    "    \n",
    "    img = np.load(path_maps + den_name)\n",
    "    Train_density_B.append(img)\n",
    "    \n",
    "    Train_labels_B.append(len(loadmat(path_heads + heads_name)['image_info'][0, 0][0, 0][0]))\n",
    "\n",
    "\n",
    "Train_imgs_B = np.asarray(Train_imgs_B)\n",
    "Train_density_B = np.asarray(Train_density_B)"
   ]
  },
  {
   "cell_type": "code",
   "execution_count": 4,
   "metadata": {
    "execution": {
     "iopub.execute_input": "2021-06-08T08:52:16.042495Z",
     "iopub.status.busy": "2021-06-08T08:52:16.042031Z",
     "iopub.status.idle": "2021-06-08T08:52:18.619416Z",
     "shell.execute_reply": "2021-06-08T08:52:18.618501Z",
     "shell.execute_reply.started": "2021-06-08T08:52:16.042442Z"
    }
   },
   "outputs": [],
   "source": [
    "VGG_16 = VGG16(weights='imagenet', include_top=False, input_shape=(None, None, 3))"
   ]
  },
  {
   "cell_type": "code",
   "execution_count": 5,
   "metadata": {
    "execution": {
     "iopub.execute_input": "2021-06-08T08:52:18.623263Z",
     "iopub.status.busy": "2021-06-08T08:52:18.622468Z",
     "iopub.status.idle": "2021-06-08T08:52:19.355527Z",
     "shell.execute_reply": "2021-06-08T08:52:19.354582Z",
     "shell.execute_reply.started": "2021-06-08T08:52:18.623220Z"
    }
   },
   "outputs": [
    {
     "name": "stdout",
     "output_type": "stream",
     "text": [
      "Model: \"model_1\"\n",
      "_________________________________________________________________\n",
      "Layer (type)                 Output Shape              Param #   \n",
      "=================================================================\n",
      "input_1 (InputLayer)         [(None, None, None, 3)]   0         \n",
      "_________________________________________________________________\n",
      "block1_conv1 (Conv2D)        (None, None, None, 64)    1792      \n",
      "_________________________________________________________________\n",
      "block1_conv2 (Conv2D)        (None, None, None, 64)    36928     \n",
      "_________________________________________________________________\n",
      "block1_pool (MaxPooling2D)   (None, None, None, 64)    0         \n",
      "_________________________________________________________________\n",
      "block2_conv1 (Conv2D)        (None, None, None, 128)   73856     \n",
      "_________________________________________________________________\n",
      "block2_conv2 (Conv2D)        (None, None, None, 128)   147584    \n",
      "_________________________________________________________________\n",
      "block2_pool (MaxPooling2D)   (None, None, None, 128)   0         \n",
      "_________________________________________________________________\n",
      "block3_conv1 (Conv2D)        (None, None, None, 256)   295168    \n",
      "_________________________________________________________________\n",
      "block3_conv2 (Conv2D)        (None, None, None, 256)   590080    \n",
      "_________________________________________________________________\n",
      "block3_conv3 (Conv2D)        (None, None, None, 256)   590080    \n",
      "_________________________________________________________________\n",
      "block3_pool (MaxPooling2D)   (None, None, None, 256)   0         \n",
      "_________________________________________________________________\n",
      "block4_conv1 (Conv2D)        (None, None, None, 512)   1180160   \n",
      "_________________________________________________________________\n",
      "block4_conv2 (Conv2D)        (None, None, None, 512)   2359808   \n",
      "_________________________________________________________________\n",
      "block4_conv3 (Conv2D)        (None, None, None, 512)   2359808   \n",
      "_________________________________________________________________\n",
      "sequential (Sequential)      (None, None, None, 1)     8628225   \n",
      "=================================================================\n",
      "Total params: 16,263,489\n",
      "Trainable params: 8,628,225\n",
      "Non-trainable params: 7,635,264\n",
      "_________________________________________________________________\n"
     ]
    }
   ],
   "source": [
    "VGG_16 = Model(VGG_16.input, VGG_16.layers[-6].output)\n",
    "\n",
    "for layer in VGG_16.layers[:]:\n",
    "    layer.trainable = False\n",
    "\n",
    "\n",
    "Map_estimator_net = Sequential([\n",
    "            Conv2D(512, (3, 3), dilation_rate = 2, padding = 'same', kernel_initializer = RandomNormal(stddev=0.01)),\n",
    "            LeakyReLU(alpha=0.01),\n",
    "            Conv2D(512, (3, 3), dilation_rate = 2, padding = 'same', kernel_initializer = RandomNormal(stddev=0.01)),\n",
    "            LeakyReLU(alpha=0.01),\n",
    "            Conv2D(512, (3, 3), dilation_rate = 2, padding = 'same', kernel_initializer = RandomNormal(stddev=0.01)),\n",
    "            LeakyReLU(alpha=0.01),\n",
    "            Conv2D(256, (3, 3), dilation_rate = 2, padding = 'same', kernel_initializer = RandomNormal(stddev=0.01)),\n",
    "            LeakyReLU(alpha=0.01),\n",
    "            Conv2D(128, (3, 3), dilation_rate = 2, padding = 'same', kernel_initializer = RandomNormal(stddev=0.01)),\n",
    "            LeakyReLU(alpha=0.01),\n",
    "            Conv2D(64, (3, 3), dilation_rate = 2, padding = 'same', kernel_initializer = RandomNormal(stddev=0.01)),\n",
    "            LeakyReLU(alpha=0.01),        \n",
    "            Conv2D(1, (1, 1), dilation_rate = 1, padding = 'same', kernel_initializer = RandomNormal(stddev=0.01)),\n",
    "            LeakyReLU(alpha=0.01)\n",
    "            ])(VGG_16.output)\n",
    "\n",
    "CSRnet = Model(inputs=VGG_16.input, outputs=Map_estimator_net)\n",
    "CSRnet.compile(optimizer=SGD(lr = 1e-2, decay = (5*1e-4), momentum = 0.9), loss = \"mse\", metrics=[\"mae\"])\n",
    "CSRnet.summary()"
   ]
  },
  {
   "cell_type": "code",
   "execution_count": 8,
   "metadata": {
    "execution": {
     "iopub.execute_input": "2021-06-08T06:46:40.079860Z",
     "iopub.status.busy": "2021-06-08T06:46:40.079511Z",
     "iopub.status.idle": "2021-06-08T08:40:30.650976Z",
     "shell.execute_reply": "2021-06-08T08:40:30.647269Z",
     "shell.execute_reply.started": "2021-06-08T06:46:40.079824Z"
    }
   },
   "outputs": [
    {
     "name": "stdout",
     "output_type": "stream",
     "text": [
      "Epoch 1/60\n",
      "30/30 [==============================] - 126s 4s/step - loss: 0.0019 - mae: 0.0095 - val_loss: 0.0012 - val_mae: 0.0091\n",
      "Epoch 2/60\n",
      "30/30 [==============================] - 113s 4s/step - loss: 0.0011 - mae: 0.0091 - val_loss: 0.0012 - val_mae: 0.0100\n",
      "Epoch 3/60\n",
      "30/30 [==============================] - 113s 4s/step - loss: 0.0015 - mae: 0.0132 - val_loss: 0.0011 - val_mae: 0.0104\n",
      "Epoch 4/60\n",
      "30/30 [==============================] - 113s 4s/step - loss: 8.3772e-04 - mae: 0.0103 - val_loss: 0.0010 - val_mae: 0.0136\n",
      "Epoch 5/60\n",
      "30/30 [==============================] - 113s 4s/step - loss: 0.0011 - mae: 0.0090 - val_loss: 0.0011 - val_mae: 0.0088\n",
      "Epoch 6/60\n",
      "30/30 [==============================] - 113s 4s/step - loss: 0.0012 - mae: 0.0116 - val_loss: 9.0457e-04 - val_mae: 0.0106\n",
      "Epoch 7/60\n",
      "30/30 [==============================] - 113s 4s/step - loss: 0.0011 - mae: 0.0128 - val_loss: 8.4508e-04 - val_mae: 0.0084\n",
      "Epoch 8/60\n",
      "30/30 [==============================] - 113s 4s/step - loss: 8.2240e-04 - mae: 0.0109 - val_loss: 7.1940e-04 - val_mae: 0.0084\n",
      "Epoch 9/60\n",
      "30/30 [==============================] - 113s 4s/step - loss: 0.0018 - mae: 0.0100 - val_loss: 7.0073e-04 - val_mae: 0.0089\n",
      "Epoch 10/60\n",
      "30/30 [==============================] - 113s 4s/step - loss: 5.3493e-04 - mae: 0.0078 - val_loss: 8.1363e-04 - val_mae: 0.0082\n",
      "Epoch 11/60\n",
      "30/30 [==============================] - 113s 4s/step - loss: 0.0013 - mae: 0.0105 - val_loss: 6.2082e-04 - val_mae: 0.0073\n",
      "Epoch 12/60\n",
      "30/30 [==============================] - 113s 4s/step - loss: 6.5772e-04 - mae: 0.0079 - val_loss: 6.1114e-04 - val_mae: 0.0074\n",
      "Epoch 13/60\n",
      "30/30 [==============================] - 113s 4s/step - loss: 4.2899e-04 - mae: 0.0068 - val_loss: 6.2241e-04 - val_mae: 0.0085\n",
      "Epoch 14/60\n",
      "30/30 [==============================] - 113s 4s/step - loss: 6.7278e-04 - mae: 0.0084 - val_loss: 5.3400e-04 - val_mae: 0.0070\n",
      "Epoch 15/60\n",
      "30/30 [==============================] - 113s 4s/step - loss: 0.0010 - mae: 0.0088 - val_loss: 5.3855e-04 - val_mae: 0.0072\n",
      "Epoch 16/60\n",
      "30/30 [==============================] - 113s 4s/step - loss: 6.0806e-04 - mae: 0.0077 - val_loss: 4.9604e-04 - val_mae: 0.0069\n",
      "Epoch 17/60\n",
      "30/30 [==============================] - 113s 4s/step - loss: 5.1860e-04 - mae: 0.0075 - val_loss: 5.7143e-04 - val_mae: 0.0069\n",
      "Epoch 18/60\n",
      "30/30 [==============================] - 113s 4s/step - loss: 6.4574e-04 - mae: 0.0081 - val_loss: 8.0221e-04 - val_mae: 0.0118\n",
      "Epoch 19/60\n",
      "30/30 [==============================] - 113s 4s/step - loss: 9.7169e-04 - mae: 0.0106 - val_loss: 5.1962e-04 - val_mae: 0.0069\n",
      "Epoch 20/60\n",
      "30/30 [==============================] - 113s 4s/step - loss: 9.0294e-04 - mae: 0.0076 - val_loss: 4.9980e-04 - val_mae: 0.0071\n",
      "Epoch 21/60\n",
      "30/30 [==============================] - 113s 4s/step - loss: 4.0293e-04 - mae: 0.0068 - val_loss: 4.6731e-04 - val_mae: 0.0068\n",
      "Epoch 22/60\n",
      "30/30 [==============================] - 113s 4s/step - loss: 6.4454e-04 - mae: 0.0071 - val_loss: 4.6697e-04 - val_mae: 0.0065\n",
      "Epoch 23/60\n",
      "30/30 [==============================] - 113s 4s/step - loss: 6.9958e-04 - mae: 0.0081 - val_loss: 5.0156e-04 - val_mae: 0.0067\n",
      "Epoch 24/60\n",
      "30/30 [==============================] - 113s 4s/step - loss: 9.7738e-04 - mae: 0.0086 - val_loss: 4.4797e-04 - val_mae: 0.0067\n",
      "Epoch 25/60\n",
      "30/30 [==============================] - 114s 4s/step - loss: 5.7821e-04 - mae: 0.0075 - val_loss: 5.6028e-04 - val_mae: 0.0071\n",
      "Epoch 26/60\n",
      "30/30 [==============================] - 114s 4s/step - loss: 7.8535e-04 - mae: 0.0083 - val_loss: 4.3380e-04 - val_mae: 0.0065\n",
      "Epoch 27/60\n",
      "30/30 [==============================] - 114s 4s/step - loss: 6.5061e-04 - mae: 0.0079 - val_loss: 4.2720e-04 - val_mae: 0.0072\n",
      "Epoch 28/60\n",
      "30/30 [==============================] - 113s 4s/step - loss: 3.8733e-04 - mae: 0.0071 - val_loss: 4.4708e-04 - val_mae: 0.0062\n",
      "Epoch 29/60\n",
      "30/30 [==============================] - 113s 4s/step - loss: 4.3367e-04 - mae: 0.0069 - val_loss: 4.2036e-04 - val_mae: 0.0062\n",
      "Epoch 30/60\n",
      "30/30 [==============================] - 114s 4s/step - loss: 9.5194e-04 - mae: 0.0079 - val_loss: 4.2643e-04 - val_mae: 0.0063\n",
      "Epoch 31/60\n",
      "30/30 [==============================] - 114s 4s/step - loss: 0.0010 - mae: 0.0076 - val_loss: 4.2243e-04 - val_mae: 0.0066\n",
      "Epoch 32/60\n",
      "30/30 [==============================] - 114s 4s/step - loss: 6.4736e-04 - mae: 0.0069 - val_loss: 5.6782e-04 - val_mae: 0.0070\n",
      "Epoch 33/60\n",
      "30/30 [==============================] - 114s 4s/step - loss: 5.8338e-04 - mae: 0.0081 - val_loss: 3.9789e-04 - val_mae: 0.0062\n",
      "Epoch 34/60\n",
      "30/30 [==============================] - 114s 4s/step - loss: 4.9005e-04 - mae: 0.0078 - val_loss: 3.9577e-04 - val_mae: 0.0063\n",
      "Epoch 35/60\n",
      "30/30 [==============================] - 114s 4s/step - loss: 5.7868e-04 - mae: 0.0074 - val_loss: 4.1824e-04 - val_mae: 0.0062\n",
      "Epoch 36/60\n",
      "30/30 [==============================] - 114s 4s/step - loss: 6.5361e-04 - mae: 0.0077 - val_loss: 4.1519e-04 - val_mae: 0.0061\n",
      "Epoch 37/60\n",
      "30/30 [==============================] - 114s 4s/step - loss: 9.3986e-04 - mae: 0.0089 - val_loss: 3.8564e-04 - val_mae: 0.0063\n",
      "Epoch 38/60\n",
      "30/30 [==============================] - 114s 4s/step - loss: 4.9259e-04 - mae: 0.0079 - val_loss: 4.4122e-04 - val_mae: 0.0061\n",
      "Epoch 39/60\n",
      "30/30 [==============================] - 114s 4s/step - loss: 2.6395e-04 - mae: 0.0056 - val_loss: 3.9005e-04 - val_mae: 0.0062\n",
      "Epoch 40/60\n",
      "30/30 [==============================] - 114s 4s/step - loss: 4.7029e-04 - mae: 0.0063 - val_loss: 3.9260e-04 - val_mae: 0.0061\n",
      "Epoch 41/60\n",
      "30/30 [==============================] - 114s 4s/step - loss: 3.2159e-04 - mae: 0.0062 - val_loss: 4.0464e-04 - val_mae: 0.0067\n",
      "Epoch 42/60\n",
      "30/30 [==============================] - 114s 4s/step - loss: 3.8267e-04 - mae: 0.0076 - val_loss: 3.8218e-04 - val_mae: 0.0060\n",
      "Epoch 43/60\n",
      "30/30 [==============================] - 114s 4s/step - loss: 4.0695e-04 - mae: 0.0067 - val_loss: 3.7900e-04 - val_mae: 0.0057\n",
      "Epoch 44/60\n",
      "30/30 [==============================] - 114s 4s/step - loss: 0.0011 - mae: 0.0077 - val_loss: 3.8268e-04 - val_mae: 0.0058\n",
      "Epoch 45/60\n",
      "30/30 [==============================] - 114s 4s/step - loss: 4.7331e-04 - mae: 0.0058 - val_loss: 3.8073e-04 - val_mae: 0.0059\n",
      "Epoch 46/60\n",
      "30/30 [==============================] - 114s 4s/step - loss: 5.1275e-04 - mae: 0.0068 - val_loss: 4.0707e-04 - val_mae: 0.0060\n",
      "Epoch 47/60\n",
      "30/30 [==============================] - 114s 4s/step - loss: 9.6603e-04 - mae: 0.0070 - val_loss: 3.7598e-04 - val_mae: 0.0058\n",
      "Epoch 48/60\n",
      "30/30 [==============================] - 114s 4s/step - loss: 5.4606e-04 - mae: 0.0079 - val_loss: 4.3129e-04 - val_mae: 0.0068\n",
      "Epoch 49/60\n",
      "30/30 [==============================] - 113s 4s/step - loss: 4.6741e-04 - mae: 0.0072 - val_loss: 3.6582e-04 - val_mae: 0.0059\n",
      "Epoch 50/60\n",
      "30/30 [==============================] - 114s 4s/step - loss: 5.8212e-04 - mae: 0.0068 - val_loss: 4.3670e-04 - val_mae: 0.0061\n",
      "Epoch 51/60\n",
      "30/30 [==============================] - 114s 4s/step - loss: 0.0010 - mae: 0.0090 - val_loss: 3.6676e-04 - val_mae: 0.0061\n",
      "Epoch 52/60\n",
      "30/30 [==============================] - 114s 4s/step - loss: 3.6750e-04 - mae: 0.0070 - val_loss: 3.6464e-04 - val_mae: 0.0057\n",
      "Epoch 53/60\n",
      "30/30 [==============================] - 114s 4s/step - loss: 3.6805e-04 - mae: 0.0059 - val_loss: 3.8420e-04 - val_mae: 0.0062\n",
      "Epoch 54/60\n",
      "30/30 [==============================] - 113s 4s/step - loss: 5.7917e-04 - mae: 0.0066 - val_loss: 3.7928e-04 - val_mae: 0.0056\n",
      "Epoch 55/60\n",
      "30/30 [==============================] - 114s 4s/step - loss: 6.5620e-04 - mae: 0.0073 - val_loss: 4.1851e-04 - val_mae: 0.0059\n",
      "Epoch 56/60\n",
      "30/30 [==============================] - 114s 4s/step - loss: 4.0247e-04 - mae: 0.0071 - val_loss: 3.9118e-04 - val_mae: 0.0066\n",
      "Epoch 57/60\n",
      "30/30 [==============================] - 114s 4s/step - loss: 8.7002e-04 - mae: 0.0074 - val_loss: 4.2840e-04 - val_mae: 0.0087\n",
      "Epoch 58/60\n",
      "30/30 [==============================] - 114s 4s/step - loss: 3.0186e-04 - mae: 0.0068 - val_loss: 3.6077e-04 - val_mae: 0.0060\n",
      "Epoch 59/60\n",
      "30/30 [==============================] - 114s 4s/step - loss: 3.5761e-04 - mae: 0.0068 - val_loss: 3.7480e-04 - val_mae: 0.0065\n",
      "Epoch 60/60\n",
      "30/30 [==============================] - 114s 4s/step - loss: 3.5582e-04 - mae: 0.0060 - val_loss: 4.0153e-04 - val_mae: 0.0080\n"
     ]
    },
    {
     "data": {
      "text/plain": [
       "<tensorflow.python.training.tracking.util.CheckpointLoadStatus at 0x7f6b6c0d8a10>"
      ]
     },
     "execution_count": 8,
     "metadata": {},
     "output_type": "execute_result"
    }
   ],
   "source": [
    "checkpoint_filepath = './checkpoint'\n",
    "model_checkpoint_callback = ModelCheckpoint(\n",
    "    filepath=checkpoint_filepath,\n",
    "    save_weights_only=True,\n",
    "    monitor='val_mae',\n",
    "    mode='min',\n",
    "    save_best_only=True)\n",
    "\n",
    "history = CSRnet.fit(Train_imgs_B, Train_density_B,\n",
    "                             batch_size = 1, epochs = 60,\n",
    "                             validation_split=0.1, steps_per_epoch = 30,\n",
    "                             callbacks=[model_checkpoint_callback]\n",
    "                         )\n",
    "\n",
    "CSRnet.load_weights(checkpoint_filepath)"
   ]
  },
  {
   "cell_type": "code",
   "execution_count": 9,
   "metadata": {
    "execution": {
     "iopub.execute_input": "2021-06-08T08:40:30.666336Z",
     "iopub.status.busy": "2021-06-08T08:40:30.660064Z",
     "iopub.status.idle": "2021-06-08T08:40:30.968431Z",
     "shell.execute_reply": "2021-06-08T08:40:30.967586Z",
     "shell.execute_reply.started": "2021-06-08T08:40:30.666292Z"
    }
   },
   "outputs": [
    {
     "data": {
      "image/png": "[encoded data removed]",
      "text/plain": [
       "<Figure size 576x360 with 1 Axes>"
      ]
     },
     "metadata": {
      "needs_background": "light"
     },
     "output_type": "display_data"
    }
   ],
   "source": [
    "def plot_learning_curves(history):\n",
    "    plt.figure(figsize=(8, 5))\n",
    "    plt.plot(history.epoch,history.history['loss'], label='train loss')\n",
    "    plt.plot(history.epoch,history.history['val_loss'], label='valid loss')\n",
    "    plt.legend()\n",
    "    plt.title('loss')\n",
    "    plt.grid(True)\n",
    "    plt.show()\n",
    "plot_learning_curves(history)"
   ]
  },
  {
   "cell_type": "code",
   "execution_count": 11,
   "metadata": {
    "execution": {
     "iopub.execute_input": "2021-06-08T08:43:23.070382Z",
     "iopub.status.busy": "2021-06-08T08:43:23.070069Z",
     "iopub.status.idle": "2021-06-08T08:43:23.294880Z",
     "shell.execute_reply": "2021-06-08T08:43:23.293889Z",
     "shell.execute_reply.started": "2021-06-08T08:43:23.070355Z"
    }
   },
   "outputs": [],
   "source": [
    "try:\n",
    "    os.makedirs('../output/')\n",
    "except:\n",
    "    pass\n",
    "\n",
    "model_save_json = CSRnet.to_json()\n",
    "with open(\"csrnet_model.json\", \"w\") as json_file:\n",
    "    json_file.write(model_save_json)\n",
    "\n",
    "# serialize weights to HDF5\n",
    "CSRnet.save_weights(\"csrnet_model.h5\")"
   ]
  },
  {
   "cell_type": "code",
   "execution_count": 6,
   "metadata": {
    "execution": {
     "iopub.execute_input": "2021-06-08T08:52:26.821154Z",
     "iopub.status.busy": "2021-06-08T08:52:26.820691Z",
     "iopub.status.idle": "2021-06-08T08:52:26.927638Z",
     "shell.execute_reply": "2021-06-08T08:52:26.926711Z",
     "shell.execute_reply.started": "2021-06-08T08:52:26.821110Z"
    }
   },
   "outputs": [],
   "source": [
    "# json_file = open(\"csrnet_model.h5\", 'r')\n",
    "# loaded_model_json = json_file.read()\n",
    "# json_file.close()\n",
    "# CSRnet = model_from_json(loaded_model_json)\n",
    "\n",
    "# load weights into new model\n",
    "CSRnet.load_weights(\"csrnet_model.h5\")"
   ]
  },
  {
   "cell_type": "code",
   "execution_count": 9,
   "metadata": {
    "execution": {
     "iopub.execute_input": "2021-06-08T08:53:18.298623Z",
     "iopub.status.busy": "2021-06-08T08:53:18.298290Z",
     "iopub.status.idle": "2021-06-08T10:09:21.367194Z",
     "shell.execute_reply": "2021-06-08T10:09:21.364091Z",
     "shell.execute_reply.started": "2021-06-08T08:53:18.298593Z"
    }
   },
   "outputs": [
    {
     "name": "stdout",
     "output_type": "stream",
     "text": [
      "Epoch 1/40\n",
      "30/30 [==============================] - 127s 4s/step - loss: 6.2765e-04 - mae: 0.0070 - val_loss: 3.6100e-04 - val_mae: 0.0061\n",
      "Epoch 2/40\n",
      "30/30 [==============================] - 114s 4s/step - loss: 3.9526e-04 - mae: 0.0070 - val_loss: 3.5877e-04 - val_mae: 0.0058\n",
      "Epoch 3/40\n",
      "30/30 [==============================] - 114s 4s/step - loss: 3.8273e-04 - mae: 0.0059 - val_loss: 3.5336e-04 - val_mae: 0.0058\n",
      "Epoch 4/40\n",
      "30/30 [==============================] - 114s 4s/step - loss: 7.9937e-04 - mae: 0.0077 - val_loss: 4.1339e-04 - val_mae: 0.0077\n",
      "Epoch 5/40\n",
      "30/30 [==============================] - 114s 4s/step - loss: 4.3947e-04 - mae: 0.0072 - val_loss: 3.8911e-04 - val_mae: 0.0076\n",
      "Epoch 6/40\n",
      "30/30 [==============================] - 114s 4s/step - loss: 2.6766e-04 - mae: 0.0064 - val_loss: 3.5285e-04 - val_mae: 0.0055\n",
      "Epoch 7/40\n",
      "30/30 [==============================] - 114s 4s/step - loss: 3.6979e-04 - mae: 0.0062 - val_loss: 3.6694e-04 - val_mae: 0.0055\n",
      "Epoch 8/40\n",
      "30/30 [==============================] - 114s 4s/step - loss: 5.0213e-04 - mae: 0.0073 - val_loss: 3.4306e-04 - val_mae: 0.0055\n",
      "Epoch 9/40\n",
      "30/30 [==============================] - 114s 4s/step - loss: 7.2142e-04 - mae: 0.0061 - val_loss: 4.8476e-04 - val_mae: 0.0066\n",
      "Epoch 10/40\n",
      "30/30 [==============================] - 114s 4s/step - loss: 6.6235e-04 - mae: 0.0071 - val_loss: 3.5165e-04 - val_mae: 0.0056\n",
      "Epoch 11/40\n",
      "30/30 [==============================] - 114s 4s/step - loss: 4.0058e-04 - mae: 0.0067 - val_loss: 3.9366e-04 - val_mae: 0.0055\n",
      "Epoch 12/40\n",
      "30/30 [==============================] - 114s 4s/step - loss: 4.0352e-04 - mae: 0.0057 - val_loss: 5.3038e-04 - val_mae: 0.0069\n",
      "Epoch 13/40\n",
      "30/30 [==============================] - 114s 4s/step - loss: 5.2443e-04 - mae: 0.0067 - val_loss: 3.4717e-04 - val_mae: 0.0058\n",
      "Epoch 14/40\n",
      "30/30 [==============================] - 114s 4s/step - loss: 6.8858e-04 - mae: 0.0068 - val_loss: 3.4441e-04 - val_mae: 0.0054\n",
      "Epoch 15/40\n",
      "30/30 [==============================] - 114s 4s/step - loss: 3.9779e-04 - mae: 0.0065 - val_loss: 3.4383e-04 - val_mae: 0.0054\n",
      "Epoch 16/40\n",
      "30/30 [==============================] - 114s 4s/step - loss: 4.6717e-04 - mae: 0.0070 - val_loss: 3.4038e-04 - val_mae: 0.0056\n",
      "Epoch 17/40\n",
      "30/30 [==============================] - 114s 4s/step - loss: 2.0181e-04 - mae: 0.0047 - val_loss: 3.5281e-04 - val_mae: 0.0055\n",
      "Epoch 18/40\n",
      "30/30 [==============================] - 114s 4s/step - loss: 2.3141e-04 - mae: 0.0052 - val_loss: 3.3348e-04 - val_mae: 0.0054\n",
      "Epoch 19/40\n",
      "30/30 [==============================] - 114s 4s/step - loss: 8.2267e-04 - mae: 0.0082 - val_loss: 3.3243e-04 - val_mae: 0.0053\n",
      "Epoch 20/40\n",
      "30/30 [==============================] - 114s 4s/step - loss: 4.2019e-04 - mae: 0.0060 - val_loss: 3.3551e-04 - val_mae: 0.0056\n",
      "Epoch 21/40\n",
      "30/30 [==============================] - 114s 4s/step - loss: 8.7319e-04 - mae: 0.0076 - val_loss: 3.4385e-04 - val_mae: 0.0053\n",
      "Epoch 22/40\n",
      "30/30 [==============================] - 114s 4s/step - loss: 4.2452e-04 - mae: 0.0057 - val_loss: 3.6338e-04 - val_mae: 0.0068\n",
      "Epoch 23/40\n",
      "30/30 [==============================] - 114s 4s/step - loss: 3.0166e-04 - mae: 0.0066 - val_loss: 3.3758e-04 - val_mae: 0.0053\n",
      "Epoch 24/40\n",
      "30/30 [==============================] - 114s 4s/step - loss: 3.5566e-04 - mae: 0.0062 - val_loss: 3.5028e-04 - val_mae: 0.0054\n",
      "Epoch 25/40\n",
      "30/30 [==============================] - 114s 4s/step - loss: 2.2880e-04 - mae: 0.0053 - val_loss: 3.3852e-04 - val_mae: 0.0057\n",
      "Epoch 26/40\n",
      "30/30 [==============================] - 114s 4s/step - loss: 2.7062e-04 - mae: 0.0061 - val_loss: 3.3203e-04 - val_mae: 0.0053\n",
      "Epoch 27/40\n",
      "30/30 [==============================] - 114s 4s/step - loss: 4.1748e-04 - mae: 0.0067 - val_loss: 3.4322e-04 - val_mae: 0.0053\n",
      "Epoch 28/40\n",
      "30/30 [==============================] - 114s 4s/step - loss: 2.8227e-04 - mae: 0.0052 - val_loss: 3.2394e-04 - val_mae: 0.0054\n",
      "Epoch 29/40\n",
      "30/30 [==============================] - 114s 4s/step - loss: 3.2437e-04 - mae: 0.0054 - val_loss: 3.2088e-04 - val_mae: 0.0054\n",
      "Epoch 30/40\n",
      "30/30 [==============================] - 114s 4s/step - loss: 2.4528e-04 - mae: 0.0052 - val_loss: 4.0522e-04 - val_mae: 0.0061\n",
      "Epoch 31/40\n",
      "30/30 [==============================] - 114s 4s/step - loss: 3.3255e-04 - mae: 0.0057 - val_loss: 3.4681e-04 - val_mae: 0.0054\n",
      "Epoch 32/40\n",
      "30/30 [==============================] - 114s 4s/step - loss: 8.5642e-04 - mae: 0.0075 - val_loss: 3.2771e-04 - val_mae: 0.0053\n",
      "Epoch 33/40\n",
      "30/30 [==============================] - 114s 4s/step - loss: 4.7040e-04 - mae: 0.0064 - val_loss: 3.4116e-04 - val_mae: 0.0056\n",
      "Epoch 34/40\n",
      "30/30 [==============================] - 114s 4s/step - loss: 5.0094e-04 - mae: 0.0069 - val_loss: 3.3014e-04 - val_mae: 0.0052\n",
      "Epoch 35/40\n",
      "30/30 [==============================] - 114s 4s/step - loss: 5.3521e-04 - mae: 0.0057 - val_loss: 3.3065e-04 - val_mae: 0.0057\n",
      "Epoch 36/40\n",
      "30/30 [==============================] - 114s 4s/step - loss: 8.1154e-04 - mae: 0.0075 - val_loss: 3.4907e-04 - val_mae: 0.0052\n",
      "Epoch 37/40\n",
      "30/30 [==============================] - 114s 4s/step - loss: 4.2010e-04 - mae: 0.0067 - val_loss: 3.2459e-04 - val_mae: 0.0052\n",
      "Epoch 38/40\n",
      "30/30 [==============================] - 114s 4s/step - loss: 3.1458e-04 - mae: 0.0055 - val_loss: 3.5226e-04 - val_mae: 0.0053\n",
      "Epoch 39/40\n",
      "30/30 [==============================] - 114s 4s/step - loss: 2.9733e-04 - mae: 0.0053 - val_loss: 3.3569e-04 - val_mae: 0.0051\n",
      "Epoch 40/40\n",
      "30/30 [==============================] - 114s 4s/step - loss: 3.2628e-04 - mae: 0.0054 - val_loss: 3.7791e-04 - val_mae: 0.0053\n"
     ]
    },
    {
     "data": {
      "text/plain": [
       "<tensorflow.python.training.tracking.util.CheckpointLoadStatus at 0x7f0471a28d90>"
      ]
     },
     "execution_count": 9,
     "metadata": {},
     "output_type": "execute_result"
    }
   ],
   "source": [
    "CSRnet.trainable = True\n",
    "\n",
    "checkpoint_filepath = './checkpoint'\n",
    "model_checkpoint_callback = ModelCheckpoint(\n",
    "    filepath=checkpoint_filepath,\n",
    "    save_weights_only=True,\n",
    "    monitor='val_mae',\n",
    "    mode='min',\n",
    "    save_best_only=True)\n",
    "\n",
    "history = CSRnet.fit(Train_imgs_B, Train_density_B,\n",
    "                             batch_size = 1, epochs = 40,\n",
    "                             validation_split=0.1, steps_per_epoch = 30,\n",
    "                             callbacks=[model_checkpoint_callback]\n",
    "                         )\n",
    "\n",
    "CSRnet.load_weights(checkpoint_filepath)"
   ]
  },
  {
   "cell_type": "code",
   "execution_count": null,
   "metadata": {},
   "outputs": [],
   "source": [
    "plot_learning_curves(history)"
   ]
  },
  {
   "cell_type": "code",
   "execution_count": 10,
   "metadata": {
    "execution": {
     "iopub.execute_input": "2021-06-08T10:09:21.433328Z",
     "iopub.status.busy": "2021-06-08T10:09:21.432964Z",
     "iopub.status.idle": "2021-06-08T10:09:21.738078Z",
     "shell.execute_reply": "2021-06-08T10:09:21.737035Z",
     "shell.execute_reply.started": "2021-06-08T10:09:21.433286Z"
    }
   },
   "outputs": [],
   "source": [
    "# serialize weights to HDF5\n",
    "CSRnet.save_weights(\"csrnet_model.h5\")"
   ]
  }
 ],
 "metadata": {
  "kernelspec": {
   "display_name": "Python 3",
   "language": "python",
   "name": "python3"
  },
  "language_info": {
   "codemirror_mode": {
    "name": "ipython",
    "version": 3
   },
   "file_extension": ".py",
   "mimetype": "text/x-python",
   "name": "python",
   "nbconvert_exporter": "python",
   "pygments_lexer": "ipython3",
   "version": "3.7.9"
  }
 },
 "nbformat": 4,
 "nbformat_minor": 4
}
